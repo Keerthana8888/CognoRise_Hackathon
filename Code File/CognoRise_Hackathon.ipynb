{
  "nbformat": 4,
  "nbformat_minor": 0,
  "metadata": {
    "colab": {
      "private_outputs": true,
      "provenance": [],
      "authorship_tag": "ABX9TyNWpgj5B2HSyl2dq1rvm8UN",
      "include_colab_link": true
    },
    "kernelspec": {
      "name": "python3",
      "display_name": "Python 3"
    },
    "language_info": {
      "name": "python"
    }
  },
  "cells": [
    {
      "cell_type": "markdown",
      "metadata": {
        "id": "view-in-github",
        "colab_type": "text"
      },
      "source": [
        "<a href=\"https://colab.research.google.com/github/Keerthana8888/CognoRise_Hackathon/blob/main/Code%20File/CognoRise_Hackathon.ipynb\" target=\"_parent\"><img src=\"https://colab.research.google.com/assets/colab-badge.svg\" alt=\"Open In Colab\"/></a>"
      ]
    },
    {
      "cell_type": "markdown",
      "source": [
        "# Approach To The Problem"
      ],
      "metadata": {
        "id": "b8NOka49KhKi"
      }
    },
    {
      "cell_type": "markdown",
      "source": [
        "1. Load the data and libraries\n",
        "2. Data Preparation and Data Transformation\n",
        "3. Data Visualization\n",
        "4. Exploratory Data Analysis\n",
        "      * Uni Variate  \n",
        "      * Bi- Variate\n",
        "      * Multi- Variate\n",
        "         * Logistic Regression\n",
        "         * Decision Tree Classifier\n",
        "         * Random Forest Classifier\n",
        "         * AdaBoosting Classifier\n",
        "         * Gradient Boosting Classifier\n",
        "         * XGBoosting Classifier\n",
        "         * KNearestNeighbors Classifier\n",
        "         * Support Vector Machine Classifier\n",
        "         * Navie Bayes Classifier\n",
        "5. Evaluate the model\n",
        "6. Apply the model to test data\n",
        "7. Evaluate results using the submission data\n"
      ],
      "metadata": {
        "id": "sLqGc8OWLT_N"
      }
    },
    {
      "cell_type": "markdown",
      "source": [
        "# Load The Libraries And Data"
      ],
      "metadata": {
        "id": "CkJnGS7TLiYd"
      }
    },
    {
      "cell_type": "code",
      "source": [
        "#Standard Libraries\n",
        "import pandas as pd\n",
        "import numpy as np\n",
        "import matplotlib.pyplot as plt\n",
        "import seaborn as sns\n",
        "# Models Selection\n",
        "from sklearn import preprocessing\n",
        "from sklearn.preprocessing import StandardScaler\n",
        "from sklearn.model_selection import train_test_split,RandomizedSearchCV\n",
        "from sklearn.linear_model import LogisticRegression\n",
        "from sklearn.preprocessing import LabelEncoder\n",
        "from sklearn.tree import DecisionTreeClassifier\n",
        "from sklearn.tree import DecisionTreeRegressor\n",
        "from sklearn.tree import plot_tree\n",
        "from sklearn.ensemble import RandomForestClassifier , AdaBoostClassifier , GradientBoostingClassifier\n",
        "from sklearn.neighbors import KNeighborsClassifier\n",
        "from xgboost import XGBClassifier\n",
        "from sklearn.svm import SVC\n",
        "from sklearn.naive_bayes import GaussianNB\n",
        "from imblearn.over_sampling import SMOTE\n",
        "from scipy.stats import chi2_contingency\n",
        "# Evaluators\n",
        "from sklearn.metrics import accuracy_score , classification_report , confusion_matrix\n",
        "# PCA Libraries\n",
        "from sklearn.decomposition import PCA"
      ],
      "metadata": {
        "id": "kFDU5X90LQh2"
      },
      "execution_count": null,
      "outputs": []
    },
    {
      "cell_type": "code",
      "source": [
        "train = pd.read_csv(\"/content/C&T train dataset.csv\")\n",
        "test  = pd.read_csv(\"/content/C&T test dataset.csv\")\n",
        "sample_submission = pd.read_csv(\"/content/C&T Bank_sample_submission.csv\")"
      ],
      "metadata": {
        "id": "6FOFsfqAOheK"
      },
      "execution_count": null,
      "outputs": []
    },
    {
      "cell_type": "code",
      "source": [
        "train.info()"
      ],
      "metadata": {
        "id": "8zDrFFoFPd0D"
      },
      "execution_count": null,
      "outputs": []
    },
    {
      "cell_type": "code",
      "source": [
        "train.head()"
      ],
      "metadata": {
        "id": "EwYgaWyyPwvZ"
      },
      "execution_count": null,
      "outputs": []
    },
    {
      "cell_type": "markdown",
      "source": [
        "# Data Preparation"
      ],
      "metadata": {
        "id": "m-PooGUmP-i2"
      }
    },
    {
      "cell_type": "code",
      "source": [
        "train.isnull().sum()"
      ],
      "metadata": {
        "id": "3jMLlXirP8xd"
      },
      "execution_count": null,
      "outputs": []
    },
    {
      "cell_type": "code",
      "source": [
        "def data_prep(data):\n",
        "  # Deleting unwanted columns\n",
        "  data.drop(['sno'] , axis = 1 , inplace = True)\n",
        "\n",
        "  #Imputing Missing Values\n",
        "  data['employment_st'] = np.where(data['employment_st'].isna() , data['employment_st'].mode(dropna = True) , data['employment_st'])\n",
        "  data['poi'] = np.where(data['poi'].isna() , data['poi'].median(skipna = True) , data['poi'])\n",
        "  data['gurantors'] = np.where(data['gurantors'].isna() , data['gurantors'].mode(dropna = True) , data['gurantors'])\n",
        "  data['age'] = np.where(data['age'].isna() , data['age'].median(skipna = True) , data['age'])\n",
        "  data['housing_type'] = np.where(data['housing_type'].isna() , data['housing_type'].mode(dropna = True) , data['housing_type'])"
      ],
      "metadata": {
        "id": "zkNCr90qQKCq"
      },
      "execution_count": null,
      "outputs": []
    },
    {
      "cell_type": "code",
      "source": [
        "data_prep(train)"
      ],
      "metadata": {
        "id": "1RPs-5L1QXt5"
      },
      "execution_count": null,
      "outputs": []
    },
    {
      "cell_type": "code",
      "source": [
        "train.info()"
      ],
      "metadata": {
        "id": "HEWt3BBAQdJ4"
      },
      "execution_count": null,
      "outputs": []
    },
    {
      "cell_type": "markdown",
      "source": [
        "# Encoding"
      ],
      "metadata": {
        "id": "IZlcoairQjob"
      }
    },
    {
      "cell_type": "code",
      "source": [
        "def data_encode(data):\n",
        "  le =LabelEncoder()\n",
        "\n",
        "  for column in data.columns:\n",
        "      if data[column].dtype=='object':\n",
        "          data[column] = le.fit_transform(data[column])"
      ],
      "metadata": {
        "id": "EMXu2AaDQhiz"
      },
      "execution_count": null,
      "outputs": []
    },
    {
      "cell_type": "code",
      "source": [
        "data_encode(train)"
      ],
      "metadata": {
        "id": "dxmdJyUpoDH4"
      },
      "execution_count": null,
      "outputs": []
    },
    {
      "cell_type": "code",
      "source": [
        "train.info()"
      ],
      "metadata": {
        "id": "zeJNssGhQsB5"
      },
      "execution_count": null,
      "outputs": []
    },
    {
      "cell_type": "code",
      "source": [
        "train.head()"
      ],
      "metadata": {
        "id": "lOfKYvznQw3A"
      },
      "execution_count": null,
      "outputs": []
    },
    {
      "cell_type": "markdown",
      "source": [
        "# Exploratory Data Analysis"
      ],
      "metadata": {
        "id": "7VkLA6AtQ4Gw"
      }
    },
    {
      "cell_type": "code",
      "source": [
        "train.describe()"
      ],
      "metadata": {
        "id": "CsIqBwgHQ2Wr"
      },
      "execution_count": null,
      "outputs": []
    },
    {
      "cell_type": "markdown",
      "source": [
        "## Uni-Varient"
      ],
      "metadata": {
        "id": "wBCigaV5RPiK"
      }
    },
    {
      "cell_type": "code",
      "source": [
        "train.skew()"
      ],
      "metadata": {
        "id": "ql39psSYRNej"
      },
      "execution_count": null,
      "outputs": []
    },
    {
      "cell_type": "code",
      "source": [
        "for i in train.columns:\n",
        "  sns.displot(train[i], color='#014F86' , kde = True)\n",
        "  plt.title(f\"Displot for {i}\")"
      ],
      "metadata": {
        "id": "FP_pOf9dRU_b"
      },
      "execution_count": null,
      "outputs": []
    },
    {
      "cell_type": "code",
      "source": [
        "for i in train.columns:\n",
        "  if i!='Group_no':\n",
        "    sns.boxplot(data = train, x = train[i], hue = train['Group_no'], palette = 'mako')\n",
        "    plt.title(f\"boxplot for {i}\")\n",
        "    plt.show()"
      ],
      "metadata": {
        "id": "qk9XLchWRqpA"
      },
      "execution_count": null,
      "outputs": []
    },
    {
      "cell_type": "code",
      "source": [
        "sns.pairplot(train)"
      ],
      "metadata": {
        "id": "CllggYkwc5QI"
      },
      "execution_count": null,
      "outputs": []
    },
    {
      "cell_type": "code",
      "source": [
        "for i in train.columns:\n",
        "  if i!='Group_no':\n",
        "    sns.kdeplot(data = train , x = train[i] , hue = train['Group_no'] , multiple = 'stack' , palette = 'mako')\n",
        "    plt.title(f\"KDE Plot for {i}\")\n",
        "    plt.show()"
      ],
      "metadata": {
        "id": "Jfp4SI14UeaJ"
      },
      "execution_count": null,
      "outputs": []
    },
    {
      "cell_type": "code",
      "source": [
        "for i in train.columns:\n",
        "  if i!='Group_no':\n",
        "    sns.catplot(data = train , x = train[i] , y = range(0 , 800) , hue = train['Group_no'] , palette = 'viridis')\n",
        "    plt.title(f\"Cat Plot for {i}\")\n",
        "    plt.show()"
      ],
      "metadata": {
        "id": "ak9fTg7gu23K"
      },
      "execution_count": null,
      "outputs": []
    },
    {
      "cell_type": "markdown",
      "source": [
        "## Bi-Varient"
      ],
      "metadata": {
        "id": "tpt_XBe9kkI0"
      }
    },
    {
      "cell_type": "code",
      "source": [
        "plt.figure(figsize = (12,12))\n",
        "sns.heatmap(round(train.corr(),2) , annot = True , cmap = 'crest')"
      ],
      "metadata": {
        "id": "ayxHRxXEi8JY"
      },
      "execution_count": null,
      "outputs": []
    },
    {
      "cell_type": "markdown",
      "source": [
        "# Splitting Of Dataset"
      ],
      "metadata": {
        "id": "J_gKpX6JmVp-"
      }
    },
    {
      "cell_type": "code",
      "source": [
        "x = train.drop(['Group_no'], axis=1)\n",
        "y = train['Group_no']"
      ],
      "metadata": {
        "id": "2Z-z-hI4lApw"
      },
      "execution_count": null,
      "outputs": []
    },
    {
      "cell_type": "code",
      "source": [
        "x_train, x_test, y_train, y_test = train_test_split(x, y, test_size=0.2, random_state = 43)"
      ],
      "metadata": {
        "id": "ak10TklEmoaf"
      },
      "execution_count": null,
      "outputs": []
    },
    {
      "cell_type": "markdown",
      "source": [
        "# Model Evaluation"
      ],
      "metadata": {
        "id": "jiHndJvpm9Me"
      }
    },
    {
      "cell_type": "code",
      "source": [
        "def model_eval(actual , predicted):\n",
        "  conf_matrix = confusion_matrix(actual , predicted)\n",
        "  clas_rep = classification_report(actual , predicted)\n",
        "  acc_score = accuracy_score(actual , predicted)\n",
        "  print(\"The Accuracy of the Model is:\" , round(acc_score , 2))\n",
        "  print(conf_matrix)\n",
        "  print(clas_rep)"
      ],
      "metadata": {
        "id": "s74Cd4vlm7Qa"
      },
      "execution_count": null,
      "outputs": []
    },
    {
      "cell_type": "markdown",
      "source": [
        "# Multi-Varient"
      ],
      "metadata": {
        "id": "-6-oCW-1nNcj"
      }
    },
    {
      "cell_type": "markdown",
      "source": [
        "## Logistic Regression"
      ],
      "metadata": {
        "id": "ZQbWQZCpnWrZ"
      }
    },
    {
      "cell_type": "code",
      "source": [
        "lr = LogisticRegression(max_iter = 10000)\n",
        "lr.fit(x_train,y_train)"
      ],
      "metadata": {
        "id": "a8fDKydOnUuQ"
      },
      "execution_count": null,
      "outputs": []
    },
    {
      "cell_type": "code",
      "source": [
        "y_hat_train_lr = lr.predict(x_train)\n",
        "y_hat_test_lr = lr.predict(x_test)"
      ],
      "metadata": {
        "id": "dXy3sVj2nctl"
      },
      "execution_count": null,
      "outputs": []
    },
    {
      "cell_type": "code",
      "source": [
        "model_eval (y_train, y_hat_train_lr)"
      ],
      "metadata": {
        "id": "tLcMXKVYnpdk"
      },
      "execution_count": null,
      "outputs": []
    },
    {
      "cell_type": "code",
      "source": [
        "model_eval (y_test, y_hat_test_lr)"
      ],
      "metadata": {
        "id": "0uCKvuVjngZt"
      },
      "execution_count": null,
      "outputs": []
    },
    {
      "cell_type": "markdown",
      "source": [
        "## Decision Tree"
      ],
      "metadata": {
        "id": "DZ-fL4vwnwYg"
      }
    },
    {
      "cell_type": "code",
      "source": [
        "dtree = DecisionTreeClassifier(max_depth = 4)\n",
        "dtree.fit(x_train, y_train)"
      ],
      "metadata": {
        "id": "cuichhLhnloP"
      },
      "execution_count": null,
      "outputs": []
    },
    {
      "cell_type": "code",
      "source": [
        "y_hat_train_dtree = dtree.predict(x_train)\n",
        "y_hat_test_dtree = dtree.predict(x_test)"
      ],
      "metadata": {
        "id": "EoSz17Tqn1SU"
      },
      "execution_count": null,
      "outputs": []
    },
    {
      "cell_type": "code",
      "source": [
        "model_eval (y_train, y_hat_train_dtree)"
      ],
      "metadata": {
        "id": "pc5I0sPbn3nE"
      },
      "execution_count": null,
      "outputs": []
    },
    {
      "cell_type": "code",
      "source": [
        "model_eval (y_test, y_hat_test_dtree)"
      ],
      "metadata": {
        "id": "lzLfaSn6n8Q6"
      },
      "execution_count": null,
      "outputs": []
    },
    {
      "cell_type": "code",
      "source": [
        "plt.figure()\n",
        "clf = DecisionTreeRegressor(max_depth=4).fit(x_train, y_train)\n",
        "plot_tree(clf, filled=True)\n",
        "plt.title(\"Decision tree train Dataset\")\n",
        "plt.show()"
      ],
      "metadata": {
        "id": "h6lkQkPSuyNG"
      },
      "execution_count": null,
      "outputs": []
    },
    {
      "cell_type": "markdown",
      "source": [
        "## Random Forest"
      ],
      "metadata": {
        "id": "unkI9ghsoF95"
      }
    },
    {
      "cell_type": "code",
      "source": [
        "rf = RandomForestClassifier(n_estimators = 200, max_depth = 4)\n",
        "rf.fit(x_train, y_train)"
      ],
      "metadata": {
        "id": "cHKZZIUsn-lW"
      },
      "execution_count": null,
      "outputs": []
    },
    {
      "cell_type": "code",
      "source": [
        "y_hat_train_rf = rf.predict(x_train)\n",
        "y_hat_test_rf = rf.predict(x_test)"
      ],
      "metadata": {
        "id": "szpzPJgOoL6q"
      },
      "execution_count": null,
      "outputs": []
    },
    {
      "cell_type": "code",
      "source": [
        "model_eval (y_train, y_hat_train_rf)"
      ],
      "metadata": {
        "id": "2dBhOTcFoNvp"
      },
      "execution_count": null,
      "outputs": []
    },
    {
      "cell_type": "code",
      "source": [
        "model_eval (y_test, y_hat_test_rf)"
      ],
      "metadata": {
        "id": "Bw1gdfOsoPP5"
      },
      "execution_count": null,
      "outputs": []
    },
    {
      "cell_type": "markdown",
      "source": [
        "## Ada Boost"
      ],
      "metadata": {
        "id": "ErC5gG42oT4x"
      }
    },
    {
      "cell_type": "code",
      "source": [
        "ada = AdaBoostClassifier(n_estimators = 200)\n",
        "ada.fit(x_train, y_train)"
      ],
      "metadata": {
        "id": "8CRYqNWAoRIg"
      },
      "execution_count": null,
      "outputs": []
    },
    {
      "cell_type": "code",
      "source": [
        "y_hat_train_ada = ada.predict(x_train)\n",
        "y_hat_test_ada = ada.predict(x_test)"
      ],
      "metadata": {
        "id": "fVW1ITdAoZEU"
      },
      "execution_count": null,
      "outputs": []
    },
    {
      "cell_type": "code",
      "source": [
        "model_eval (y_train, y_hat_train_ada)"
      ],
      "metadata": {
        "id": "csow0o_JoayO"
      },
      "execution_count": null,
      "outputs": []
    },
    {
      "cell_type": "code",
      "source": [
        "model_eval (y_test, y_hat_test_ada)"
      ],
      "metadata": {
        "id": "-C8f54BTocDl"
      },
      "execution_count": null,
      "outputs": []
    },
    {
      "cell_type": "markdown",
      "source": [
        "## Gradient Boost"
      ],
      "metadata": {
        "id": "rDe-v--Tofpg"
      }
    },
    {
      "cell_type": "code",
      "source": [
        "gb = GradientBoostingClassifier(n_estimators = 200, max_depth = 3)\n",
        "gb.fit(x_train, y_train)"
      ],
      "metadata": {
        "id": "BfbLY3Q7oeUK"
      },
      "execution_count": null,
      "outputs": []
    },
    {
      "cell_type": "code",
      "source": [
        "y_hat_train_gb = gb.predict(x_train)\n",
        "y_hat_test_gb = gb.predict(x_test)"
      ],
      "metadata": {
        "id": "9QMeKwxioj4D"
      },
      "execution_count": null,
      "outputs": []
    },
    {
      "cell_type": "code",
      "source": [
        "model_eval (y_train, y_hat_train_gb)"
      ],
      "metadata": {
        "id": "33uS6E4qolVT"
      },
      "execution_count": null,
      "outputs": []
    },
    {
      "cell_type": "code",
      "source": [
        "model_eval (y_test, y_hat_test_gb)"
      ],
      "metadata": {
        "id": "ljOLG_KLoohy"
      },
      "execution_count": null,
      "outputs": []
    },
    {
      "cell_type": "markdown",
      "source": [
        "## XGBoosting"
      ],
      "metadata": {
        "id": "XLcPKj8KjW-K"
      }
    },
    {
      "cell_type": "code",
      "source": [
        "le = LabelEncoder()\n",
        "y_train_enc = le.fit_transform(y_train)\n",
        "y_test_enc = le.fit_transform(y_test)"
      ],
      "metadata": {
        "id": "2Icz1Rfbjb7u"
      },
      "execution_count": null,
      "outputs": []
    },
    {
      "cell_type": "code",
      "source": [
        "xgb = XGBClassifier(max_depth = 4, gamma = 6)\n",
        "xgb.fit(x_train , y_train_enc)"
      ],
      "metadata": {
        "id": "TmNZaZXnjg2f"
      },
      "execution_count": null,
      "outputs": []
    },
    {
      "cell_type": "code",
      "source": [
        "y_hat_train_xgb = xgb.predict(x_train)\n",
        "y_hat_test_xgb = xgb.predict(x_test)"
      ],
      "metadata": {
        "id": "H_Ubax5ZjjUR"
      },
      "execution_count": null,
      "outputs": []
    },
    {
      "cell_type": "code",
      "source": [
        "model_eval(y_train_enc , y_hat_train_xgb)"
      ],
      "metadata": {
        "id": "PpFn8Awdjm2V"
      },
      "execution_count": null,
      "outputs": []
    },
    {
      "cell_type": "code",
      "source": [
        "model_eval(y_test_enc , y_hat_test_xgb)"
      ],
      "metadata": {
        "id": "1hRGVZ0gjtLC"
      },
      "execution_count": null,
      "outputs": []
    },
    {
      "cell_type": "markdown",
      "source": [
        "## Navie Bayes"
      ],
      "metadata": {
        "id": "_om8o7i4oryj"
      }
    },
    {
      "cell_type": "code",
      "source": [
        "nb = GaussianNB()\n",
        "nb.fit(x_train, y_train)"
      ],
      "metadata": {
        "id": "UaZtBZsMoqej"
      },
      "execution_count": null,
      "outputs": []
    },
    {
      "cell_type": "code",
      "source": [
        "y_hat_train_nb = nb.predict(x_train)\n",
        "y_hat_test_nb = nb.predict(x_test)"
      ],
      "metadata": {
        "id": "lCT6Q1SZoyih"
      },
      "execution_count": null,
      "outputs": []
    },
    {
      "cell_type": "code",
      "source": [
        "model_eval(y_train,y_hat_train_nb)"
      ],
      "metadata": {
        "id": "SV4KoaqCozyN"
      },
      "execution_count": null,
      "outputs": []
    },
    {
      "cell_type": "code",
      "source": [
        "model_eval(y_test,y_hat_test_nb)"
      ],
      "metadata": {
        "id": "ZapVL3Oso1Ys"
      },
      "execution_count": null,
      "outputs": []
    },
    {
      "cell_type": "markdown",
      "source": [
        "## KNearestNeighbors (KNN)"
      ],
      "metadata": {
        "id": "injkQq8go4Aj"
      }
    },
    {
      "cell_type": "code",
      "source": [
        "acc_list = []\n",
        "for i in range(1,100):\n",
        "  knn2 = KNeighborsClassifier(n_neighbors = i)\n",
        "  knn2.fit(x_train , y_train)\n",
        "  y_hat_test_knn2 = knn2.predict(x_test)\n",
        "  acc_list.append(round(accuracy_score(y_test , y_hat_test_knn2) , 2))\n",
        "print(acc_list)"
      ],
      "metadata": {
        "id": "n2JVydDao26G"
      },
      "execution_count": null,
      "outputs": []
    },
    {
      "cell_type": "code",
      "source": [
        "x = np.array([i for i in range(1,100)])\n",
        "y = acc_list\n",
        "plt.figure(figsize=(15, 10))\n",
        "plt.plot(x, y, marker='o', linestyle='-')\n",
        "# Add annotations\n",
        "for i, (xi, yi) in enumerate(zip(x, y)):\n",
        "    plt.annotate(f'({xi}, {yi})', (xi, yi), textcoords=\"offset points\", xytext=(0, 10), ha='center' , rotation = 90)\n",
        "plt.xlabel(\"No of K\")\n",
        "plt.ylabel(\"Accuracy Score\")\n",
        "plt.show()"
      ],
      "metadata": {
        "id": "9btzgSorpEV3"
      },
      "execution_count": null,
      "outputs": []
    },
    {
      "cell_type": "code",
      "source": [
        "knn = KNeighborsClassifier(n_neighbors = 34)\n",
        "knn.fit(x_train , y_train )"
      ],
      "metadata": {
        "id": "Z1BYP3JxpGeC"
      },
      "execution_count": null,
      "outputs": []
    },
    {
      "cell_type": "code",
      "source": [
        "y_hat_train_knn = knn.predict(x_train)\n",
        "y_hat_test_knn = knn.predict(x_test)"
      ],
      "metadata": {
        "id": "QdBlMNTTpKDk"
      },
      "execution_count": null,
      "outputs": []
    },
    {
      "cell_type": "code",
      "source": [
        "model_eval(y_train , y_hat_train_knn)"
      ],
      "metadata": {
        "id": "dx7-22I1pL5U"
      },
      "execution_count": null,
      "outputs": []
    },
    {
      "cell_type": "code",
      "source": [
        "model_eval(y_test , y_hat_test_knn)"
      ],
      "metadata": {
        "id": "1oZq_IcJpNMi"
      },
      "execution_count": null,
      "outputs": []
    },
    {
      "cell_type": "markdown",
      "source": [
        "## Support Vector Machine"
      ],
      "metadata": {
        "id": "w5wQnYj3pQ0T"
      }
    },
    {
      "cell_type": "code",
      "source": [
        "svm = SVC(C = 5 , kernel = 'poly' , degree = 3)\n",
        "svm.fit(x_train , y_train)"
      ],
      "metadata": {
        "id": "32GLKUTcpP5q"
      },
      "execution_count": null,
      "outputs": []
    },
    {
      "cell_type": "code",
      "source": [
        "y_hat_train_svm = svm.predict(x_train)\n",
        "y_hat_test_svm = svm.predict(x_test)"
      ],
      "metadata": {
        "id": "AopY-hhFpWPF"
      },
      "execution_count": null,
      "outputs": []
    },
    {
      "cell_type": "code",
      "source": [
        "model_eval(y_train , y_hat_train_svm)"
      ],
      "metadata": {
        "id": "LlDkz6TWpXsL"
      },
      "execution_count": null,
      "outputs": []
    },
    {
      "cell_type": "code",
      "source": [
        "model_eval(y_test , y_hat_test_svm)"
      ],
      "metadata": {
        "id": "WvAUTFEzpZD6"
      },
      "execution_count": null,
      "outputs": []
    },
    {
      "cell_type": "markdown",
      "source": [
        "# Model Selection"
      ],
      "metadata": {
        "id": "rUdtKvcWpcY3"
      }
    },
    {
      "cell_type": "code",
      "source": [
        "accuracy_table=[['Logistic Regression',round(accuracy_score(y_test , y_hat_test_lr),2)],\n",
        "  ['Decision Tree', round(accuracy_score(y_test , y_hat_test_dtree),2)],\n",
        "  ['Random Forest' , round(accuracy_score(y_test , y_hat_test_rf),2)],\n",
        "  ['Ada Boosting' , round(accuracy_score(y_test , y_hat_test_ada),2)],\n",
        "  ['Gradient Boosting' , round(accuracy_score(y_test , y_hat_test_gb),2)],\n",
        "  ['KNN' , round(accuracy_score(y_test , y_hat_test_knn),2)],\n",
        "  ['SVM' , round(accuracy_score(y_test , y_hat_test_svm),2)]]\n",
        "df1 = pd.DataFrame(accuracy_table, columns = ['Model','Test_Accuracy'])\n",
        "print(df1)"
      ],
      "metadata": {
        "id": "uY6_Ngm8pbFy"
      },
      "execution_count": null,
      "outputs": []
    },
    {
      "cell_type": "markdown",
      "source": [
        "***After evaluating various models, We get to known that the Random Forest Classifier outperforms the others, yielding the most favorable results during testing.***"
      ],
      "metadata": {
        "id": "cOgBgUQqeP7v"
      }
    },
    {
      "cell_type": "markdown",
      "source": [
        "# Application On Test Dataset"
      ],
      "metadata": {
        "id": "Y8lMvVfvm_0d"
      }
    },
    {
      "cell_type": "code",
      "source": [
        "test.info()"
      ],
      "metadata": {
        "id": "Q_1nGpAAf81z"
      },
      "execution_count": null,
      "outputs": []
    },
    {
      "cell_type": "code",
      "source": [
        "test.head()"
      ],
      "metadata": {
        "id": "ojAFJv_KnG4t"
      },
      "execution_count": null,
      "outputs": []
    },
    {
      "cell_type": "markdown",
      "source": [
        "## Data Preparation"
      ],
      "metadata": {
        "id": "9xPVGQqHnNNW"
      }
    },
    {
      "cell_type": "code",
      "source": [
        "data_prep(test)"
      ],
      "metadata": {
        "id": "IMepNQqVnLJz"
      },
      "execution_count": null,
      "outputs": []
    },
    {
      "cell_type": "code",
      "source": [
        "test.info()"
      ],
      "metadata": {
        "id": "GkQLWLKsnUFq"
      },
      "execution_count": null,
      "outputs": []
    },
    {
      "cell_type": "markdown",
      "source": [
        "## Encoding"
      ],
      "metadata": {
        "id": "v3rIJENMnY_7"
      }
    },
    {
      "cell_type": "code",
      "source": [
        "data_encode(test)"
      ],
      "metadata": {
        "id": "IhDyGWRsnXBS"
      },
      "execution_count": null,
      "outputs": []
    },
    {
      "cell_type": "code",
      "source": [
        "test.info()"
      ],
      "metadata": {
        "id": "08gzMRr_negb"
      },
      "execution_count": null,
      "outputs": []
    },
    {
      "cell_type": "markdown",
      "source": [
        "## Prediction"
      ],
      "metadata": {
        "id": "qse7xGrQoSZ_"
      }
    },
    {
      "cell_type": "code",
      "source": [
        "test['Group_no'] = rf.predict(test)"
      ],
      "metadata": {
        "id": "fC5gSqiuoP-t"
      },
      "execution_count": null,
      "outputs": []
    },
    {
      "cell_type": "code",
      "source": [
        "test['Group_no']"
      ],
      "metadata": {
        "id": "z6TLwigToe5C"
      },
      "execution_count": null,
      "outputs": []
    },
    {
      "cell_type": "markdown",
      "source": [
        "# Submission File"
      ],
      "metadata": {
        "id": "yQZrDzFxt9x4"
      }
    },
    {
      "cell_type": "code",
      "source": [
        "sample_submission.head()"
      ],
      "metadata": {
        "id": "nwlq_NSJt5Uj"
      },
      "execution_count": null,
      "outputs": []
    },
    {
      "cell_type": "code",
      "source": [
        "sample_submission['Group_no'] = test['Group_no']"
      ],
      "metadata": {
        "id": "_XogWBrVuHk-"
      },
      "execution_count": null,
      "outputs": []
    },
    {
      "cell_type": "code",
      "source": [
        "sample_submission.head()"
      ],
      "metadata": {
        "id": "Xr77dVQ0uToD"
      },
      "execution_count": null,
      "outputs": []
    },
    {
      "cell_type": "code",
      "source": [
        "sample_submission.to_csv('Final Submission.csv' , index = False)"
      ],
      "metadata": {
        "id": "wZeQVx1oufmY"
      },
      "execution_count": null,
      "outputs": []
    }
  ]
}